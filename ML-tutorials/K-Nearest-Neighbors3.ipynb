{
 "cells": [
  {
   "cell_type": "code",
   "execution_count": 1,
   "metadata": {},
   "outputs": [],
   "source": [
    "import numpy as np\n",
    "from math import sqrt\n",
    "import warnings\n",
    "from collections import Counter\n",
    "import pandas as pd\n",
    "import random"
   ]
  },
  {
   "cell_type": "code",
   "execution_count": 2,
   "metadata": {},
   "outputs": [],
   "source": [
    "def k_nearest_neighbors(data, predict, k=3):\n",
    "    if len(data) >= k:\n",
    "        warnings.warn('K is set to a value less than total voting groups!')\n",
    "    distances = []\n",
    "    for group in data:\n",
    "        for features in data[group]:\n",
    "            euclidean_distance = np.linalg.norm(np.array(features) - np.array(predict))\n",
    "            distances.append([euclidean_distance, group])\n",
    "            \n",
    "    votes = [i[1] for i in sorted(distances) [:k]]\n",
    "    \n",
    "    #print(Counter(votes).most_common(1))           # Counter is a container that keeps track of how many times the value is added\n",
    "   \n",
    "    \n",
    "    vote_result = Counter(votes).most_common(1)[0][0]\n",
    "    \n",
    "    confidence = Counter(votes).most_common(1)[0][0] / k\n",
    "    \n",
    "    #print(vote_result, confidence)\n",
    "    \n",
    "    return vote_result, confidence\n",
    "\n"
   ]
  },
  {
   "cell_type": "code",
   "execution_count": 3,
   "metadata": {},
   "outputs": [],
   "source": [
    "df = pd.read_csv(\"breast-cancer-wisconsin.data\")\n",
    "df.replace('?', -99999, inplace = True)\n",
    "df.drop(['id'], 1, inplace= True)\n",
    "full_data = df.astype(float).values.tolist()     # Everyting is converted into float\n",
    "\n",
    "random.shuffle(full_data)"
   ]
  },
  {
   "cell_type": "code",
   "execution_count": 4,
   "metadata": {},
   "outputs": [],
   "source": [
    "test_size = 0.4\n",
    "train_set = {2:[], 4:[]}\n",
    "test_set = {2:[], 4:[]}\n",
    "\n",
    "train_data = full_data[:-int(test_size*len(full_data))]\n",
    "test_data = full_data[:-int(test_size*len(full_data)):]\n"
   ]
  },
  {
   "cell_type": "code",
   "execution_count": 5,
   "metadata": {},
   "outputs": [],
   "source": [
    "for i in train_data:\n",
    "    train_set[i[-1]].append(i[:-1])\n",
    "    \n",
    "for i in test_data:\n",
    "    test_set[i[-1]].append(i[:-1])"
   ]
  },
  {
   "cell_type": "code",
   "execution_count": 6,
   "metadata": {},
   "outputs": [
    {
     "name": "stdout",
     "output_type": "stream",
     "text": [
      "Accuracy : 0.9761904761904762\n"
     ]
    }
   ],
   "source": [
    "correct = 0\n",
    "total = 0\n",
    "\n",
    "for group in test_set:\n",
    "    for data in test_set[group]:\n",
    "        vote, confidence = k_nearest_neighbors(train_set, data, k=5)\n",
    "        if group == vote:\n",
    "            correct += 1\n",
    "        total += 1\n",
    "        \n",
    "print('Accuracy :', correct/total)"
   ]
  },
  {
   "cell_type": "code",
   "execution_count": null,
   "metadata": {},
   "outputs": [],
   "source": []
  },
  {
   "cell_type": "markdown",
   "metadata": {},
   "source": [
    "### Looping over entire code to get differnt accuracies"
   ]
  },
  {
   "cell_type": "code",
   "execution_count": 7,
   "metadata": {},
   "outputs": [
    {
     "name": "stdout",
     "output_type": "stream",
     "text": [
      "Accuracy : 0.9785714285714285\n",
      "Accuracy : 0.9642857142857143\n",
      "Accuracy : 0.9761904761904762\n",
      "Accuracy : 0.969047619047619\n",
      "Accuracy : 0.9714285714285714\n",
      "Accuracy : 0.9785714285714285\n",
      "Accuracy : 0.9666666666666667\n",
      "Accuracy : 0.9714285714285714\n",
      "Accuracy : 0.9642857142857143\n",
      "Accuracy : 0.9738095238095238\n",
      "Accuracy : 0.9809523809523809\n",
      "Accuracy : 0.9714285714285714\n",
      "Accuracy : 0.9833333333333333\n",
      "Accuracy : 0.9714285714285714\n",
      "Accuracy : 0.9785714285714285\n",
      "Accuracy : 0.9785714285714285\n",
      "Accuracy : 0.9738095238095238\n",
      "Accuracy : 0.9761904761904762\n",
      "Accuracy : 0.9761904761904762\n",
      "Accuracy : 0.9738095238095238\n",
      "0.9739285714285713\n"
     ]
    }
   ],
   "source": [
    "accuracies = []\n",
    "\n",
    "for i in range(20):\n",
    "    df = pd.read_csv(\"breast-cancer-wisconsin.data\")\n",
    "    df.replace('?', -99999, inplace = True)\n",
    "    df.drop(['id'], 1, inplace= True)\n",
    "    full_data = df.astype(float).values.tolist()     # Everyting is converted into float\n",
    "\n",
    "    random.shuffle(full_data)\n",
    "    \n",
    "    test_size = 0.4\n",
    "    train_set = {2:[], 4:[]}\n",
    "    test_set = {2:[], 4:[]}\n",
    "\n",
    "    train_data = full_data[:-int(test_size*len(full_data))]\n",
    "    test_data = full_data[:-int(test_size*len(full_data)):]\n",
    "    \n",
    "    for i in train_data:\n",
    "        train_set[i[-1]].append(i[:-1])\n",
    "    \n",
    "    for i in test_data:\n",
    "        test_set[i[-1]].append(i[:-1])\n",
    "\n",
    "    correct = 0\n",
    "    total = 0\n",
    "\n",
    "    for group in test_set:\n",
    "        for data in test_set[group]:\n",
    "            vote, confidence = k_nearest_neighbors(train_set, data, k=5)\n",
    "            if group == vote:\n",
    "                correct += 1\n",
    "            total += 1\n",
    "        \n",
    "    print('Accuracy :', correct/total)\n",
    "    accuracies.append(correct/total)\n",
    "    \n",
    "print(sum(accuracies)/len(accuracies))"
   ]
  }
 ],
 "metadata": {
  "kernelspec": {
   "display_name": "Python 3",
   "language": "python",
   "name": "python3"
  },
  "language_info": {
   "codemirror_mode": {
    "name": "ipython",
    "version": 3
   },
   "file_extension": ".py",
   "mimetype": "text/x-python",
   "name": "python",
   "nbconvert_exporter": "python",
   "pygments_lexer": "ipython3",
   "version": "3.5.2"
  }
 },
 "nbformat": 4,
 "nbformat_minor": 4
}
